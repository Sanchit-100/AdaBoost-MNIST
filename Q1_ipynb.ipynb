{
  "nbformat": 4,
  "nbformat_minor": 0,
  "metadata": {
    "colab": {
      "provenance": []
    },
    "kernelspec": {
      "name": "python3",
      "display_name": "Python 3"
    },
    "language_info": {
      "name": "python"
    }
  },
  "cells": [
    {
      "cell_type": "code",
      "source": [
        "import numpy as np\n",
        "import random\n",
        "from sklearn.datasets import fetch_openml\n",
        "from sklearn.model_selection import train_test_split\n",
        "import matplotlib.pyplot as plt\n",
        "from sklearn.decomposition import PCA"
      ],
      "metadata": {
        "id": "GtR-rOYE4LKu"
      },
      "execution_count": 1,
      "outputs": []
    },
    {
      "cell_type": "code",
      "source": [
        "mnist=fetch_openml('mnist_784',version=1,parser='auto')\n",
        "X=mnist.data.astype('float32')"
      ],
      "metadata": {
        "id": "gMNapJ4iSOor"
      },
      "execution_count": 2,
      "outputs": []
    },
    {
      "cell_type": "code",
      "source": [
        "y=mnist.target.astype('int')"
      ],
      "metadata": {
        "id": "G3FMlM3SSYbk"
      },
      "execution_count": 3,
      "outputs": []
    },
    {
      "cell_type": "code",
      "source": [
        "mask = (y == 0) | (y == 1)\n",
        "X = X[mask]\n",
        "y = y[mask]"
      ],
      "metadata": {
        "id": "DEZ_FMcVSfcr"
      },
      "execution_count": 4,
      "outputs": []
    },
    {
      "cell_type": "code",
      "source": [
        "print(f\"X shape: {X.shape}\")\n",
        "print(f\"y shape: {y.shape}\")\n",
        "print(f\"Class distribution: {np.bincount(y)}\")"
      ],
      "metadata": {
        "colab": {
          "base_uri": "https://localhost:8080/"
        },
        "id": "O9ZRPvwKSisU",
        "outputId": "17582ce8-8763-4cb3-ec29-b83afc1426c0"
      },
      "execution_count": 5,
      "outputs": [
        {
          "output_type": "stream",
          "name": "stdout",
          "text": [
            "X shape: (14780, 784)\n",
            "y shape: (14780,)\n",
            "Class distribution: [6903 7877]\n"
          ]
        }
      ]
    },
    {
      "cell_type": "code",
      "source": [
        "X_class0 = X[y == 0]\n",
        "X_class1 = X[y == 1]\n",
        "y_class0 = y[y == 0]\n",
        "y_class1 = y[y == 1]\n"
      ],
      "metadata": {
        "id": "LluoBktmSp0e"
      },
      "execution_count": 6,
      "outputs": []
    },
    {
      "cell_type": "code",
      "source": [
        "indices_class0 = np.random.choice(X_class0.shape[0], size=1000, replace=False)\n",
        "indices_class1 = np.random.choice(X_class1.shape[0], size=1000, replace=False)"
      ],
      "metadata": {
        "id": "oc0CtsFhS73d"
      },
      "execution_count": 7,
      "outputs": []
    },
    {
      "cell_type": "code",
      "source": [
        "X_train = np.vstack((X_class0.iloc[indices_class0].values, X_class1.iloc[indices_class1].values))\n",
        "y_train = np.hstack((y_class0.iloc[indices_class0].values, y_class1.iloc[indices_class1].values))"
      ],
      "metadata": {
        "id": "bC4q0CB4S_vf"
      },
      "execution_count": 8,
      "outputs": []
    },
    {
      "cell_type": "code",
      "source": [
        "mask_test_class0 = np.ones(X_class0.shape[0], dtype=bool)\n",
        "mask_test_class0[indices_class0] = False\n",
        "mask_test_class1 = np.ones(X_class1.shape[0], dtype=bool)\n",
        "mask_test_class1[indices_class1] = False\n"
      ],
      "metadata": {
        "id": "cNEs92ZLTnLW"
      },
      "execution_count": 9,
      "outputs": []
    },
    {
      "cell_type": "code",
      "source": [
        "X_test = np.vstack((X_class0[mask_test_class0], X_class1[mask_test_class1]))\n",
        "y_test = np.hstack((y_class0[mask_test_class0], y_class1[mask_test_class1]))"
      ],
      "metadata": {
        "id": "wQYomeAeTC2M"
      },
      "execution_count": 10,
      "outputs": []
    },
    {
      "cell_type": "code",
      "source": [
        "pca = PCA(n_components=5)\n",
        "pca.fit(X_train)\n",
        "X_train_pca = pca.transform(X_train)\n",
        "X_test_pca = pca.transform(X_test)"
      ],
      "metadata": {
        "id": "HXw5tLbTTvsQ"
      },
      "execution_count": 11,
      "outputs": []
    },
    {
      "cell_type": "code",
      "source": [
        "print(f\"Training shape: {X_train_pca.shape}\")\n",
        "print(f\"Testing shape: {X_test_pca.shape}\")"
      ],
      "metadata": {
        "colab": {
          "base_uri": "https://localhost:8080/"
        },
        "id": "_JmRkFvHT4VZ",
        "outputId": "85c293ea-37ed-4ffc-efd7-315736c894da"
      },
      "execution_count": 12,
      "outputs": [
        {
          "output_type": "stream",
          "name": "stdout",
          "text": [
            "Training shape: (2000, 5)\n",
            "Testing shape: (12780, 5)\n"
          ]
        }
      ]
    },
    {
      "cell_type": "code",
      "source": [
        "class DecisionStump:\n",
        "  def __init__(self):\n",
        "    self.polarity = 1\n",
        "    self.feature_idx = None\n",
        "    self.threshold = None\n",
        "    self.min_error=float('inf')\n",
        "    self.predictions=None\n",
        "\n",
        "  def fit(self,X,y,sample_weights):\n",
        "    n_samples,n_features=X.shape\n",
        "    self.min_error=float('inf')\n",
        "\n",
        "    for feature_idx in range(n_features):\n",
        "\n",
        "      feature_min = np.min(X[:, feature_idx])\n",
        "      feature_max = np.max(X[:, feature_idx])\n",
        "\n",
        "\n",
        "      thresholds = np.linspace(feature_min, feature_max, 4)[1:-1]\n",
        "\n",
        "      for threshold in thresholds:\n",
        "        for polarity in [1, -1]:\n",
        "\n",
        "          predictions = np.ones(n_samples)\n",
        "          if polarity ==1:\n",
        "            predictions[X[:,feature_idx]<threshold]=0\n",
        "          else:\n",
        "            predictions[X[:, feature_idx] >= threshold] = 0\n",
        "\n",
        "          misclassified=predictions!=y\n",
        "          weighted_error = np.sum(sample_weights[misclassified])\n",
        "\n",
        "          if weighted_error < self.min_error:\n",
        "              self.min_error = weighted_error\n",
        "              self.feature_idx = feature_idx\n",
        "              self.threshold = threshold\n",
        "              self.polarity = polarity\n",
        "              self.predictions = predictions\n",
        "\n",
        "  def predict(self,X):\n",
        "    n_samples = X.shape[0]\n",
        "    predictions = np.ones(n_samples)\n",
        "\n",
        "    if self.polarity==1:\n",
        "        predictions[X[:, self.feature_idx] < self.threshold] = 0\n",
        "    else:\n",
        "        predictions[X[:, self.feature_idx] >= self.threshold] = 0\n",
        "\n",
        "    return predictions"
      ],
      "metadata": {
        "id": "KlYdPtv9Uo41"
      },
      "execution_count": 13,
      "outputs": []
    },
    {
      "cell_type": "code",
      "source": [
        "def loss_calc_weighted_01(y_true, y_pred, sample_weights):\n",
        "    incorrect = y_true != y_pred\n",
        "    return np.sum(sample_weights[incorrect])\n"
      ],
      "metadata": {
        "id": "a1rXVeJn5K8z"
      },
      "execution_count": 14,
      "outputs": []
    },
    {
      "cell_type": "code",
      "source": [
        "def predict_adaboost(models_tray, alphas, X):\n",
        "    combined_scores = np.zeros(X.shape[0])\n",
        "    for stump, alpha in zip(models_tray, alphas):\n",
        "        stump_preds = stump.predict(X)\n",
        "        combined_scores += alpha * (2 * stump_preds - 1)  # map {0,1} -> {-1,1}\n",
        "\n",
        "    preds = 0.5 * (np.sign(combined_scores) + 1)\n",
        "    return preds"
      ],
      "metadata": {
        "id": "MFSAL6jS5uD5"
      },
      "execution_count": 15,
      "outputs": []
    },
    {
      "cell_type": "code",
      "source": [
        "class AdaBoostScratch:\n",
        "    def __init__(self, n_estimators=50):\n",
        "        self.n_estimators = n_estimators\n",
        "        self.stumps = []\n",
        "        self.alphas = []\n",
        "        self.train_errors = []\n",
        "        self.test_errors = []\n",
        "\n",
        "    def _map_labels(self, y):\n",
        "\n",
        "        return np.where(y == 0, -1, 1)\n",
        "\n",
        "    def fit(self, X_train, y_train, X_test=None, y_test=None):\n",
        "        y_train_mapped = self._map_labels(y_train)\n",
        "        if y_test is not None:\n",
        "            y_test_mapped = self._map_labels(y_test)\n",
        "\n",
        "        n_samples = X_train.shape[0]\n",
        "        sample_weights = np.ones(n_samples) / n_samples\n",
        "        pred_train_sum = np.zeros(n_samples)\n",
        "        pred_test_sum = np.zeros(len(X_test)) if X_test is not None else None\n",
        "\n",
        "        for i in range(self.n_estimators):\n",
        "            stump = DecisionStump()\n",
        "            stump.fit(X_train, (y_train_mapped + 1) // 2, sample_weights)\n",
        "            pred_stump = stump.predict(X_train)\n",
        "            pred_stump_mapped = np.where(pred_stump == 0, -1, 1)\n",
        "\n",
        "            err = np.sum(sample_weights[pred_stump_mapped != y_train_mapped]) / np.sum(sample_weights)\n",
        "            err = max(err, 1e-10)\n",
        "\n",
        "            alpha = 0.5 * np.log((1 - err) / err)\n",
        "\n",
        "\n",
        "            sample_weights *= np.exp(-alpha * y_train_mapped * pred_stump_mapped)\n",
        "            sample_weights /= np.sum(sample_weights)\n",
        "\n",
        "\n",
        "            self.stumps.append(stump)\n",
        "            self.alphas.append(alpha)\n",
        "\n",
        "\n",
        "            pred_train_sum += alpha * pred_stump_mapped\n",
        "            train_preds = self.predict(X_train)\n",
        "            train_error = np.mean(train_preds != (y_train_mapped + 1) // 2)  # convert back to 0/1\n",
        "            self.train_errors.append(train_error)\n",
        "\n",
        "\n",
        "            if X_test is not None:\n",
        "                test_preds = self.predict(X_test)\n",
        "                test_error = np.mean(test_preds != (y_test_mapped + 1) // 2)\n",
        "                self.test_errors.append(test_error)\n",
        "\n",
        "\n",
        "\n",
        "    def predict(self, X):\n",
        "        agg_pred = np.zeros(X.shape[0])\n",
        "        for stump, alpha in zip(self.stumps, self.alphas):\n",
        "            pred = stump.predict(X)\n",
        "            pred_mapped = np.where(pred == 0, -1, 1)\n",
        "            agg_pred += alpha * pred_mapped\n",
        "        return np.where(agg_pred >= 0, 1, 0)\n"
      ],
      "metadata": {
        "id": "IX-2dSoBUsxg"
      },
      "execution_count": 22,
      "outputs": []
    },
    {
      "cell_type": "code",
      "source": [
        "def plot_error_rate(train_errors, test_errors=None):\n",
        "    plt.figure(figsize=(10, 6))\n",
        "    plt.plot(train_errors, label='Train Error', color='dodgerblue')\n",
        "    if test_errors is not None:\n",
        "        plt.plot(test_errors, label='Test Error', color='darkorange')\n",
        "    plt.xlabel('Number of Iterations')\n",
        "    plt.ylabel('Error Rate')\n",
        "    plt.title('AdaBoost Error Rate vs Iterations')\n",
        "    plt.legend()\n",
        "    plt.grid(True)\n",
        "    plt.show()\n"
      ],
      "metadata": {
        "id": "weehsNekvnS5"
      },
      "execution_count": 19,
      "outputs": []
    },
    {
      "cell_type": "code",
      "source": [
        "n_estimators=100\n",
        "adaboost=AdaBoostScratch(n_estimators=n_estimators)\n",
        "adaboost.fit(X_train_pca, y_train, X_test_pca, y_test)\n",
        "plot_error_rate(adaboost.train_errors, adaboost.test_errors)"
      ],
      "metadata": {
        "colab": {
          "base_uri": "https://localhost:8080/",
          "height": 564
        },
        "id": "EcyP-Ymqamc3",
        "outputId": "14e03aa9-335f-41b3-dcaf-21982c0e1097"
      },
      "execution_count": 24,
      "outputs": [
        {
          "output_type": "display_data",
          "data": {
            "text/plain": [
              "<Figure size 1000x600 with 1 Axes>"
            ],
            "image/png": "[encoded data removed]"
          },
          "metadata": {}
        }
      ]
    },
    {
      "cell_type": "code",
      "source": [
        "y_preds=adaboost.predict(X_test_pca)\n",
        "accuracy=np.mean(y_preds==y_test)\n",
        "print(f\"Accuracy: {accuracy}\")\n"
      ],
      "metadata": {
        "colab": {
          "base_uri": "https://localhost:8080/"
        },
        "id": "dGO_Fq2e0OIC",
        "outputId": "5fb93251-0bca-42bd-f51a-873c46dd5f0e"
      },
      "execution_count": 25,
      "outputs": [
        {
          "output_type": "stream",
          "name": "stdout",
          "text": [
            "Accuracy: 0.9930359937402191\n"
          ]
        }
      ]
    }
  ]
}